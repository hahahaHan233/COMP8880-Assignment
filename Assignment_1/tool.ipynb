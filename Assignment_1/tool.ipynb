{
 "cells": [
  {
   "cell_type": "code",
   "execution_count": 1,
   "id": "initial_id",
   "metadata": {
    "collapsed": true,
    "ExecuteTime": {
     "end_time": "2025-03-04T10:30:14.884692Z",
     "start_time": "2025-03-04T10:30:14.770060Z"
    }
   },
   "outputs": [
    {
     "name": "stdout",
     "output_type": "stream",
     "text": [
      "Number of nodes: 3883\n",
      "Number of edges: 14142\n"
     ]
    }
   ],
   "source": [
    "import networkx as nx\n",
    "\n",
    "# 读取城市数据\n",
    "def read_cities(file_path):\n",
    "    cities = {}\n",
    "    with open(file_path, 'r') as file:\n",
    "        for line in file:\n",
    "            parts = line.strip().split('|')\n",
    "            if len(parts) == 3:\n",
    "                city_id = int(parts[1])\n",
    "                city_name = parts[2].strip()\n",
    "                cities[city_id] = city_name\n",
    "    return cities\n",
    "\n",
    "# 读取连接数据\n",
    "def read_connections(file_path):\n",
    "    connections = []\n",
    "    with open(file_path, 'r') as file:\n",
    "        for line in file:\n",
    "            parts = line.strip().split()\n",
    "            if len(parts) == 2:\n",
    "                connections.append((int(parts[0]), int(parts[1])))\n",
    "    return connections\n",
    "\n",
    "# 创建图\n",
    "def create_graph(cities, connections):\n",
    "    G = nx.Graph()\n",
    "    for city_id, city_name in cities.items():\n",
    "        G.add_node(city_id, name=city_name)\n",
    "    for connection in connections:\n",
    "        G.add_edge(connection[0], connection[1])\n",
    "    return G\n",
    "\n",
    "# 文件路径\n",
    "cities_file_path = 'global-cities.dat'\n",
    "connections_file_path = 'global-net.dat'\n",
    "\n",
    "# 读取数据\n",
    "cities = read_cities(cities_file_path)\n",
    "connections = read_connections(connections_file_path)\n",
    "\n",
    "# 创建图\n",
    "G = create_graph(cities, connections)\n",
    "\n",
    "# 打印图的信息\n",
    "print(\"Number of nodes:\", G.number_of_nodes())\n",
    "print(\"Number of edges:\", G.number_of_edges())\n",
    "# \n",
    "# # 可视化图（可选）\n",
    "# import matplotlib.pyplot as plt\n",
    "# nx.draw(G, with_labels=True, node_size=500, font_size=8)\n",
    "# plt.show()"
   ]
  }
 ],
 "metadata": {
  "kernelspec": {
   "display_name": "Python 3",
   "language": "python",
   "name": "python3"
  },
  "language_info": {
   "codemirror_mode": {
    "name": "ipython",
    "version": 2
   },
   "file_extension": ".py",
   "mimetype": "text/x-python",
   "name": "python",
   "nbconvert_exporter": "python",
   "pygments_lexer": "ipython2",
   "version": "2.7.6"
  }
 },
 "nbformat": 4,
 "nbformat_minor": 5
}
